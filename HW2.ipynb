{
 "cells": [
  {
   "cell_type": "markdown",
   "metadata": {
    "id": "NRSQbmXD9U98"
   },
   "source": [
    "## Практическое задание\n",
    "\n",
    "Используем набор примеров fashion-MNIST\n",
    "\n",
    "1.  Опишите - какой результата получен в нейросети в зависимости от:\n",
    "  -  числа нейронов в слое(для 2-хслойной сети), \n",
    "  - числа слоев (2, 3, 5, 10) при близких размерах сети (близкое число тренируемых парметров).\n",
    "  - фиксируйте для тренировочного и тестового набора метрики accuracy.\n",
    "2.  Проверьте работу разных оптимизаторов (SGD, Adam, RMSProp) для одной из моделей п.1.Фиксируйте для тренировочного и тестового набора метрики accuracy.\n",
    "\n",
    "3. Сделайте вывод - что помогло вам улучшить качество классификации в нейросети на тестовом наборе? \n",
    "\n",
    "4. Для одного варианта сетей сформируйте матрицу ошибок по классам. Оцените качество модели по каждому классу отдельно (полнота , точность)"
   ]
  },
  {
   "cell_type": "code",
   "execution_count": 44,
   "metadata": {},
   "outputs": [],
   "source": [
    "import numpy as np\n",
    "import keras\n",
    "from keras.models import Sequential\n",
    "from keras.layers import Dense\n",
    "from keras.utils import to_categorical\n",
    "from keras.datasets import fashion_mnist\n",
    "from keras.optimizers import SGD, RMSprop, Adam\n",
    "\n",
    "import matplotlib.pyplot as plt\n",
    "import pandas as pd\n",
    "\n",
    "%matplotlib inline"
   ]
  },
  {
   "cell_type": "code",
   "execution_count": 2,
   "metadata": {
    "id": "cnrrzpi6NBLV",
    "scrolled": true
   },
   "outputs": [],
   "source": [
    "(train_images, train_labels), (test_images, test_labels) = fashion_mnist.load_data()"
   ]
  },
  {
   "cell_type": "code",
   "execution_count": 3,
   "metadata": {
    "colab": {
     "base_uri": "https://localhost:8080/",
     "height": 265
    },
    "id": "HgkWr0rjE47r",
    "outputId": "6362ec40-11f9-47ac-856c-b9feaf9f94a4",
    "scrolled": false
   },
   "outputs": [
    {
     "data": {
      "text/plain": [
       "<matplotlib.image.AxesImage at 0x2309d0b64c8>"
      ]
     },
     "execution_count": 3,
     "metadata": {},
     "output_type": "execute_result"
    },
    {
     "data": {
      "image/png": "[encoded data removed]",
      "text/plain": [
       "<Figure size 432x288 with 1 Axes>"
      ]
     },
     "metadata": {
      "needs_background": "light"
     },
     "output_type": "display_data"
    }
   ],
   "source": [
    "ind = np.random.randint(0, train_images.shape[0])\n",
    "plt.imshow(train_images[ind])"
   ]
  },
  {
   "cell_type": "code",
   "execution_count": 4,
   "metadata": {},
   "outputs": [
    {
     "data": {
      "text/plain": [
       "(60000, 28, 28)"
      ]
     },
     "execution_count": 4,
     "metadata": {},
     "output_type": "execute_result"
    }
   ],
   "source": [
    "train_images.shape"
   ]
  },
  {
   "cell_type": "code",
   "execution_count": 5,
   "metadata": {},
   "outputs": [],
   "source": [
    "# Нормировка\n",
    "train_images = (train_images / 255) - 0.5\n",
    "test_images = (test_images / 255) - 0.5"
   ]
  },
  {
   "cell_type": "code",
   "execution_count": 6,
   "metadata": {},
   "outputs": [
    {
     "name": "stdout",
     "output_type": "stream",
     "text": [
      "(60000, 28, 28)\n",
      "(10000, 28, 28)\n"
     ]
    }
   ],
   "source": [
    "print(train_images.shape)\n",
    "print(test_images.shape)  "
   ]
  },
  {
   "cell_type": "code",
   "execution_count": 7,
   "metadata": {},
   "outputs": [
    {
     "name": "stdout",
     "output_type": "stream",
     "text": [
      "(60000, 784)\n",
      "(10000, 784)\n"
     ]
    }
   ],
   "source": [
    "# Вытягивание признаков\n",
    "train_images = train_images.reshape((-1, train_images.shape[1] * train_images.shape[2]))\n",
    "test_images = test_images.reshape((-1, test_images.shape[1] * test_images.shape[2]))\n",
    "\n",
    "print(train_images.shape)\n",
    "print(test_images.shape)"
   ]
  },
  {
   "cell_type": "code",
   "execution_count": 8,
   "metadata": {},
   "outputs": [
    {
     "data": {
      "text/plain": [
       "array([0, 1, 2, 3, 4, 5, 6, 7, 8, 9], dtype=uint8)"
      ]
     },
     "execution_count": 8,
     "metadata": {},
     "output_type": "execute_result"
    }
   ],
   "source": [
    "np.unique(train_labels)"
   ]
  },
  {
   "cell_type": "code",
   "execution_count": 9,
   "metadata": {},
   "outputs": [],
   "source": [
    "model1 = Sequential(name='model_1')\n",
    "model1.add(Dense(128, activation='relu', input_shape=(784,)))\n",
    "\n",
    "model1.add(Dense(10, activation='softmax'))"
   ]
  },
  {
   "cell_type": "code",
   "execution_count": 10,
   "metadata": {},
   "outputs": [],
   "source": [
    "model1.compile(\n",
    "  optimizer='adam',\n",
    "  loss='categorical_crossentropy',\n",
    "  metrics=['accuracy'],\n",
    ")"
   ]
  },
  {
   "cell_type": "code",
   "execution_count": 11,
   "metadata": {},
   "outputs": [
    {
     "name": "stdout",
     "output_type": "stream",
     "text": [
      "Model: \"model_1\"\n",
      "_________________________________________________________________\n",
      "Layer (type)                 Output Shape              Param #   \n",
      "=================================================================\n",
      "dense (Dense)                (None, 128)               100480    \n",
      "_________________________________________________________________\n",
      "dense_1 (Dense)              (None, 10)                1290      \n",
      "=================================================================\n",
      "Total params: 101,770\n",
      "Trainable params: 101,770\n",
      "Non-trainable params: 0\n",
      "_________________________________________________________________\n"
     ]
    }
   ],
   "source": [
    "model1.summary()"
   ]
  },
  {
   "cell_type": "code",
   "execution_count": 12,
   "metadata": {},
   "outputs": [
    {
     "name": "stdout",
     "output_type": "stream",
     "text": [
      "Epoch 1/5\n",
      "1500/1500 [==============================] - 3s 2ms/step - loss: 0.6313 - accuracy: 0.7748 - val_loss: 0.4329 - val_accuracy: 0.8393\n",
      "Epoch 2/5\n",
      "1500/1500 [==============================] - 2s 2ms/step - loss: 0.3928 - accuracy: 0.8572 - val_loss: 0.3863 - val_accuracy: 0.8612\n",
      "Epoch 3/5\n",
      "1500/1500 [==============================] - 2s 1ms/step - loss: 0.3441 - accuracy: 0.8740 - val_loss: 0.3697 - val_accuracy: 0.8656\n",
      "Epoch 4/5\n",
      "1500/1500 [==============================] - 2s 1ms/step - loss: 0.3244 - accuracy: 0.8818 - val_loss: 0.3544 - val_accuracy: 0.8699\n",
      "Epoch 5/5\n",
      "1500/1500 [==============================] - 2s 1ms/step - loss: 0.2966 - accuracy: 0.8911 - val_loss: 0.3432 - val_accuracy: 0.8779\n",
      "313/313 [==============================] - 0s 1ms/step - loss: 0.3747 - accuracy: 0.8686\n",
      "[9 2 1 1 0]\n",
      "[9 2 1 1 6]\n"
     ]
    }
   ],
   "source": [
    "# Train the model.\n",
    "hh = model1.fit(\n",
    "  train_images,\n",
    "  to_categorical(train_labels),\n",
    "  epochs=5,\n",
    "  batch_size=32, validation_split=0.2\n",
    ")\n",
    "\n",
    "# Evaluate the model.\n",
    "model1.evaluate(\n",
    "  test_images,\n",
    "  to_categorical(test_labels)\n",
    ")\n",
    "\n",
    "# Predict on the first 5 test images.\n",
    "predictions = model1.predict(test_images[:5])\n",
    "\n",
    "# Print our model's predictions.\n",
    "print(np.argmax(predictions, axis=1)) \n",
    "\n",
    "# Check our predictions against the ground truths.\n",
    "print(test_labels[:5]) "
   ]
  },
  {
   "cell_type": "code",
   "execution_count": 13,
   "metadata": {
    "scrolled": true
   },
   "outputs": [
    {
     "data": {
      "text/plain": [
       "{'loss': [0.5005682110786438,\n",
       "  0.38277021050453186,\n",
       "  0.34565868973731995,\n",
       "  0.3210061192512512,\n",
       "  0.3001337945461273],\n",
       " 'accuracy': [0.8196458220481873,\n",
       "  0.8612916469573975,\n",
       "  0.8733124732971191,\n",
       "  0.8812916874885559,\n",
       "  0.8890208601951599],\n",
       " 'val_loss': [0.4328974187374115,\n",
       "  0.38633662462234497,\n",
       "  0.36967983841896057,\n",
       "  0.35443103313446045,\n",
       "  0.34321126341819763],\n",
       " 'val_accuracy': [0.8393333554267883,\n",
       "  0.8611666560173035,\n",
       "  0.8655833601951599,\n",
       "  0.8699166774749756,\n",
       "  0.877916693687439]}"
      ]
     },
     "execution_count": 13,
     "metadata": {},
     "output_type": "execute_result"
    }
   ],
   "source": [
    "hh.history"
   ]
  },
  {
   "cell_type": "code",
   "execution_count": 14,
   "metadata": {},
   "outputs": [],
   "source": [
    "model2 = Sequential(name='model_2')\n",
    "model2.add(Dense(64, activation='relu', input_shape=(784,)))\n",
    "\n",
    "model2.add(Dense(10, activation='softmax'))"
   ]
  },
  {
   "cell_type": "code",
   "execution_count": 15,
   "metadata": {},
   "outputs": [],
   "source": [
    "model2.compile(\n",
    "  optimizer='adam',\n",
    "  loss='categorical_crossentropy',\n",
    "  metrics=['accuracy'],\n",
    ")"
   ]
  },
  {
   "cell_type": "code",
   "execution_count": 16,
   "metadata": {},
   "outputs": [
    {
     "name": "stdout",
     "output_type": "stream",
     "text": [
      "Model: \"model_2\"\n",
      "_________________________________________________________________\n",
      "Layer (type)                 Output Shape              Param #   \n",
      "=================================================================\n",
      "dense_2 (Dense)              (None, 64)                50240     \n",
      "_________________________________________________________________\n",
      "dense_3 (Dense)              (None, 10)                650       \n",
      "=================================================================\n",
      "Total params: 50,890\n",
      "Trainable params: 50,890\n",
      "Non-trainable params: 0\n",
      "_________________________________________________________________\n"
     ]
    }
   ],
   "source": [
    "model2.summary()"
   ]
  },
  {
   "cell_type": "code",
   "execution_count": 17,
   "metadata": {},
   "outputs": [
    {
     "name": "stdout",
     "output_type": "stream",
     "text": [
      "Epoch 1/5\n",
      "1500/1500 [==============================] - 2s 1ms/step - loss: 0.6475 - accuracy: 0.7725 - val_loss: 0.4244 - val_accuracy: 0.8487\n",
      "Epoch 2/5\n",
      "1500/1500 [==============================] - 2s 1ms/step - loss: 0.4081 - accuracy: 0.8536 - val_loss: 0.3961 - val_accuracy: 0.8560\n",
      "Epoch 3/5\n",
      "1500/1500 [==============================] - 2s 1ms/step - loss: 0.3691 - accuracy: 0.8674 - val_loss: 0.3620 - val_accuracy: 0.8699\n",
      "Epoch 4/5\n",
      "1500/1500 [==============================] - 2s 1ms/step - loss: 0.3393 - accuracy: 0.8752 - val_loss: 0.3638 - val_accuracy: 0.8661\n",
      "Epoch 5/5\n",
      "1500/1500 [==============================] - 2s 1ms/step - loss: 0.3162 - accuracy: 0.8837 - val_loss: 0.3458 - val_accuracy: 0.8761\n",
      "313/313 [==============================] - 0s 1ms/step - loss: 0.3747 - accuracy: 0.8658\n",
      "[9 2 1 1 6]\n",
      "[9 2 1 1 6]\n"
     ]
    }
   ],
   "source": [
    "# Train the model.\n",
    "hh2 = model2.fit(\n",
    "  train_images,\n",
    "  to_categorical(train_labels),\n",
    "  epochs=5,\n",
    "  batch_size=32, validation_split=0.2\n",
    ")\n",
    "\n",
    "# Evaluate the model.\n",
    "model2.evaluate(\n",
    "  test_images,\n",
    "  to_categorical(test_labels)\n",
    ")\n",
    "\n",
    "# Predict on the first 5 test images.\n",
    "predictions = model2.predict(test_images[:5])\n",
    "\n",
    "# Print our model's predictions.\n",
    "print(np.argmax(predictions, axis=1)) \n",
    "\n",
    "# Check our predictions against the ground truths.\n",
    "print(test_labels[:5]) "
   ]
  },
  {
   "cell_type": "code",
   "execution_count": 18,
   "metadata": {},
   "outputs": [],
   "source": [
    "layers1 = [\n",
    "        Dense(64, activation='relu', input_shape=(784,)),\n",
    "        Dense(64, activation='tanh'),\n",
    "        Dense(10, activation='softmax'),\n",
    "                      ]\n",
    "layers2 = [\n",
    "        Dense(64, activation='relu', input_shape=(784,)),\n",
    "        Dense(64, activation='tanh'),\n",
    "        Dense(64, activation='tanh'),\n",
    "        Dense(64, activation='tanh'),\n",
    "        Dense(10, activation='softmax'),\n",
    "                      ]\n",
    "layers3 = [\n",
    "        Dense(64, activation='relu', input_shape=(784,)),\n",
    "        Dense(64, activation='tanh'),\n",
    "        Dense(64, activation='tanh'),\n",
    "        Dense(64, activation='tanh'),\n",
    "        Dense(64, activation='tanh'),\n",
    "        Dense(64, activation='tanh'),\n",
    "        Dense(64, activation='tanh'),\n",
    "        Dense(64, activation='tanh'),\n",
    "        Dense(64, activation='tanh'),\n",
    "        Dense(10, activation='softmax'),\n",
    "                      ]"
   ]
  },
  {
   "cell_type": "code",
   "execution_count": 19,
   "metadata": {},
   "outputs": [],
   "source": [
    "model3 = Sequential(layers1)\n",
    "model3.compile(\n",
    "  optimizer='adam',\n",
    "  loss='categorical_crossentropy',\n",
    "  metrics=['accuracy'],\n",
    ")"
   ]
  },
  {
   "cell_type": "code",
   "execution_count": 20,
   "metadata": {},
   "outputs": [
    {
     "name": "stdout",
     "output_type": "stream",
     "text": [
      "Model: \"sequential\"\n",
      "_________________________________________________________________\n",
      "Layer (type)                 Output Shape              Param #   \n",
      "=================================================================\n",
      "dense_4 (Dense)              (None, 64)                50240     \n",
      "_________________________________________________________________\n",
      "dense_5 (Dense)              (None, 64)                4160      \n",
      "_________________________________________________________________\n",
      "dense_6 (Dense)              (None, 10)                650       \n",
      "=================================================================\n",
      "Total params: 55,050\n",
      "Trainable params: 55,050\n",
      "Non-trainable params: 0\n",
      "_________________________________________________________________\n"
     ]
    }
   ],
   "source": [
    "model3.summary()"
   ]
  },
  {
   "cell_type": "code",
   "execution_count": 21,
   "metadata": {},
   "outputs": [],
   "source": [
    "model4 = Sequential(layers2)\n",
    "model4.compile(\n",
    "  optimizer='adam',\n",
    "  loss='categorical_crossentropy',\n",
    "  metrics=['accuracy'],\n",
    ")"
   ]
  },
  {
   "cell_type": "code",
   "execution_count": 22,
   "metadata": {
    "scrolled": true
   },
   "outputs": [
    {
     "name": "stdout",
     "output_type": "stream",
     "text": [
      "Model: \"sequential_1\"\n",
      "_________________________________________________________________\n",
      "Layer (type)                 Output Shape              Param #   \n",
      "=================================================================\n",
      "dense_7 (Dense)              (None, 64)                50240     \n",
      "_________________________________________________________________\n",
      "dense_8 (Dense)              (None, 64)                4160      \n",
      "_________________________________________________________________\n",
      "dense_9 (Dense)              (None, 64)                4160      \n",
      "_________________________________________________________________\n",
      "dense_10 (Dense)             (None, 64)                4160      \n",
      "_________________________________________________________________\n",
      "dense_11 (Dense)             (None, 10)                650       \n",
      "=================================================================\n",
      "Total params: 63,370\n",
      "Trainable params: 63,370\n",
      "Non-trainable params: 0\n",
      "_________________________________________________________________\n"
     ]
    }
   ],
   "source": [
    "model4.summary()"
   ]
  },
  {
   "cell_type": "code",
   "execution_count": 23,
   "metadata": {},
   "outputs": [],
   "source": [
    "model5 = Sequential(layers3)\n",
    "model5.compile(\n",
    "  optimizer='adam',\n",
    "  loss='categorical_crossentropy',\n",
    "  metrics=['accuracy'],\n",
    ")"
   ]
  },
  {
   "cell_type": "code",
   "execution_count": 24,
   "metadata": {},
   "outputs": [
    {
     "name": "stdout",
     "output_type": "stream",
     "text": [
      "Model: \"sequential_2\"\n",
      "_________________________________________________________________\n",
      "Layer (type)                 Output Shape              Param #   \n",
      "=================================================================\n",
      "dense_12 (Dense)             (None, 64)                50240     \n",
      "_________________________________________________________________\n",
      "dense_13 (Dense)             (None, 64)                4160      \n",
      "_________________________________________________________________\n",
      "dense_14 (Dense)             (None, 64)                4160      \n",
      "_________________________________________________________________\n",
      "dense_15 (Dense)             (None, 64)                4160      \n",
      "_________________________________________________________________\n",
      "dense_16 (Dense)             (None, 64)                4160      \n",
      "_________________________________________________________________\n",
      "dense_17 (Dense)             (None, 64)                4160      \n",
      "_________________________________________________________________\n",
      "dense_18 (Dense)             (None, 64)                4160      \n",
      "_________________________________________________________________\n",
      "dense_19 (Dense)             (None, 64)                4160      \n",
      "_________________________________________________________________\n",
      "dense_20 (Dense)             (None, 64)                4160      \n",
      "_________________________________________________________________\n",
      "dense_21 (Dense)             (None, 10)                650       \n",
      "=================================================================\n",
      "Total params: 84,170\n",
      "Trainable params: 84,170\n",
      "Non-trainable params: 0\n",
      "_________________________________________________________________\n"
     ]
    }
   ],
   "source": [
    "model5.summary()"
   ]
  },
  {
   "cell_type": "code",
   "execution_count": 25,
   "metadata": {},
   "outputs": [],
   "source": [
    "def hhl(models):\n",
    "    hh = models.fit(\n",
    "      train_images,\n",
    "      to_categorical(train_labels),\n",
    "      epochs=25,\n",
    "      batch_size=32, validation_split=0.2\n",
    "    )\n",
    "\n",
    "    # Evaluate the model.\n",
    "    models.evaluate(\n",
    "      test_images,\n",
    "      to_categorical(test_labels)\n",
    "    )\n",
    "\n",
    "    # Predict on the first 5 test images.\n",
    "    predictions = models.predict(test_images[:5])\n",
    "    \n",
    "    # Print our model's predictions.\n",
    "    print(np.argmax(predictions, axis=1)) \n",
    "\n",
    "    # Check our predictions against the ground truths.\n",
    "    print(test_labels[:5])\n",
    "    \n",
    "    return hh\n"
   ]
  },
  {
   "cell_type": "code",
   "execution_count": 26,
   "metadata": {
    "scrolled": true
   },
   "outputs": [
    {
     "name": "stdout",
     "output_type": "stream",
     "text": [
      "Epoch 1/25\n",
      "1500/1500 [==============================] - 2s 1ms/step - loss: 0.6820 - accuracy: 0.7651 - val_loss: 0.4147 - val_accuracy: 0.8501\n",
      "Epoch 2/25\n",
      "1500/1500 [==============================] - 2s 1ms/step - loss: 0.3935 - accuracy: 0.8570 - val_loss: 0.3743 - val_accuracy: 0.8639\n",
      "Epoch 3/25\n",
      "1500/1500 [==============================] - 2s 1ms/step - loss: 0.3587 - accuracy: 0.8682 - val_loss: 0.3656 - val_accuracy: 0.8653\n",
      "Epoch 4/25\n",
      "1500/1500 [==============================] - 2s 1ms/step - loss: 0.3282 - accuracy: 0.8779 - val_loss: 0.3464 - val_accuracy: 0.8725\n",
      "Epoch 5/25\n",
      "1500/1500 [==============================] - 2s 1ms/step - loss: 0.3095 - accuracy: 0.8856 - val_loss: 0.3450 - val_accuracy: 0.8763\n",
      "Epoch 6/25\n",
      "1500/1500 [==============================] - 2s 2ms/step - loss: 0.2967 - accuracy: 0.8907 - val_loss: 0.3502 - val_accuracy: 0.8768\n",
      "Epoch 7/25\n",
      "1500/1500 [==============================] - 2s 1ms/step - loss: 0.2844 - accuracy: 0.8950 - val_loss: 0.3606 - val_accuracy: 0.8678\n",
      "Epoch 8/25\n",
      "1500/1500 [==============================] - 2s 1ms/step - loss: 0.2752 - accuracy: 0.8975 - val_loss: 0.3368 - val_accuracy: 0.8773\n",
      "Epoch 9/25\n",
      "1500/1500 [==============================] - 2s 1ms/step - loss: 0.2603 - accuracy: 0.9049 - val_loss: 0.3352 - val_accuracy: 0.8790\n",
      "Epoch 10/25\n",
      "1500/1500 [==============================] - 2s 1ms/step - loss: 0.2503 - accuracy: 0.9047 - val_loss: 0.3727 - val_accuracy: 0.8707\n",
      "Epoch 11/25\n",
      "1500/1500 [==============================] - 2s 1ms/step - loss: 0.2396 - accuracy: 0.9096 - val_loss: 0.3283 - val_accuracy: 0.8835\n",
      "Epoch 12/25\n",
      "1500/1500 [==============================] - 2s 1ms/step - loss: 0.2345 - accuracy: 0.9124 - val_loss: 0.3387 - val_accuracy: 0.8763\n",
      "Epoch 13/25\n",
      "1500/1500 [==============================] - 2s 1ms/step - loss: 0.2240 - accuracy: 0.9165 - val_loss: 0.3364 - val_accuracy: 0.8827\n",
      "Epoch 14/25\n",
      "1500/1500 [==============================] - 2s 2ms/step - loss: 0.2153 - accuracy: 0.9197 - val_loss: 0.3403 - val_accuracy: 0.8827\n",
      "Epoch 15/25\n",
      "1500/1500 [==============================] - 2s 1ms/step - loss: 0.2129 - accuracy: 0.9194 - val_loss: 0.3306 - val_accuracy: 0.8867\n",
      "Epoch 16/25\n",
      "1500/1500 [==============================] - 2s 1ms/step - loss: 0.2049 - accuracy: 0.9234 - val_loss: 0.3529 - val_accuracy: 0.8776\n",
      "Epoch 17/25\n",
      "1500/1500 [==============================] - 2s 1ms/step - loss: 0.2046 - accuracy: 0.9230 - val_loss: 0.3416 - val_accuracy: 0.8840\n",
      "Epoch 18/25\n",
      "1500/1500 [==============================] - 2s 1ms/step - loss: 0.1966 - accuracy: 0.9280 - val_loss: 0.3533 - val_accuracy: 0.8785\n",
      "Epoch 19/25\n",
      "1500/1500 [==============================] - 2s 1ms/step - loss: 0.1954 - accuracy: 0.9282 - val_loss: 0.3363 - val_accuracy: 0.8873\n",
      "Epoch 20/25\n",
      "1500/1500 [==============================] - 2s 1ms/step - loss: 0.1912 - accuracy: 0.9291 - val_loss: 0.3498 - val_accuracy: 0.8836\n",
      "Epoch 21/25\n",
      "1500/1500 [==============================] - 2s 1ms/step - loss: 0.1863 - accuracy: 0.9319 - val_loss: 0.3553 - val_accuracy: 0.8852\n",
      "Epoch 22/25\n",
      "1500/1500 [==============================] - 2s 2ms/step - loss: 0.1749 - accuracy: 0.9341 - val_loss: 0.3397 - val_accuracy: 0.8892\n",
      "Epoch 23/25\n",
      "1500/1500 [==============================] - 2s 1ms/step - loss: 0.1712 - accuracy: 0.9391 - val_loss: 0.3652 - val_accuracy: 0.8794\n",
      "Epoch 24/25\n",
      "1500/1500 [==============================] - 2s 1ms/step - loss: 0.1664 - accuracy: 0.9377 - val_loss: 0.3725 - val_accuracy: 0.8823\n",
      "Epoch 25/25\n",
      "1500/1500 [==============================] - 2s 2ms/step - loss: 0.1650 - accuracy: 0.9387 - val_loss: 0.3605 - val_accuracy: 0.8840\n",
      "313/313 [==============================] - 0s 1ms/step - loss: 0.3865 - accuracy: 0.8751\n",
      "[9 2 1 1 6]\n",
      "[9 2 1 1 6]\n"
     ]
    }
   ],
   "source": [
    "hh_1 = hhl(model3)"
   ]
  },
  {
   "cell_type": "code",
   "execution_count": 27,
   "metadata": {
    "scrolled": true
   },
   "outputs": [
    {
     "name": "stdout",
     "output_type": "stream",
     "text": [
      "Epoch 1/25\n",
      "1500/1500 [==============================] - 3s 2ms/step - loss: 0.6639 - accuracy: 0.7680 - val_loss: 0.4461 - val_accuracy: 0.8324\n",
      "Epoch 2/25\n",
      "1500/1500 [==============================] - 2s 2ms/step - loss: 0.3986 - accuracy: 0.8544 - val_loss: 0.3666 - val_accuracy: 0.8677\n",
      "Epoch 3/25\n",
      "1500/1500 [==============================] - 2s 2ms/step - loss: 0.3564 - accuracy: 0.8679 - val_loss: 0.3656 - val_accuracy: 0.8622\n",
      "Epoch 4/25\n",
      "1500/1500 [==============================] - 2s 2ms/step - loss: 0.3282 - accuracy: 0.8788 - val_loss: 0.3514 - val_accuracy: 0.8740\n",
      "Epoch 5/25\n",
      "1500/1500 [==============================] - 3s 2ms/step - loss: 0.3080 - accuracy: 0.8874 - val_loss: 0.3436 - val_accuracy: 0.8742\n",
      "Epoch 6/25\n",
      "1500/1500 [==============================] - 2s 1ms/step - loss: 0.2947 - accuracy: 0.8898 - val_loss: 0.3406 - val_accuracy: 0.8785\n",
      "Epoch 7/25\n",
      "1500/1500 [==============================] - 2s 1ms/step - loss: 0.2822 - accuracy: 0.8949 - val_loss: 0.3424 - val_accuracy: 0.8752\n",
      "Epoch 8/25\n",
      "1500/1500 [==============================] - 2s 2ms/step - loss: 0.2776 - accuracy: 0.8958 - val_loss: 0.3273 - val_accuracy: 0.8788\n",
      "Epoch 9/25\n",
      "1500/1500 [==============================] - 2s 2ms/step - loss: 0.2601 - accuracy: 0.9021 - val_loss: 0.3569 - val_accuracy: 0.8725\n",
      "Epoch 10/25\n",
      "1500/1500 [==============================] - 2s 1ms/step - loss: 0.2513 - accuracy: 0.9055 - val_loss: 0.3475 - val_accuracy: 0.8735\n",
      "Epoch 11/25\n",
      "1500/1500 [==============================] - 2s 1ms/step - loss: 0.2434 - accuracy: 0.9069 - val_loss: 0.3478 - val_accuracy: 0.8755\n",
      "Epoch 12/25\n",
      "1500/1500 [==============================] - 2s 1ms/step - loss: 0.2399 - accuracy: 0.9102 - val_loss: 0.3535 - val_accuracy: 0.8759\n",
      "Epoch 13/25\n",
      "1500/1500 [==============================] - 3s 2ms/step - loss: 0.2353 - accuracy: 0.9111 - val_loss: 0.3327 - val_accuracy: 0.8842\n",
      "Epoch 14/25\n",
      "1500/1500 [==============================] - 3s 2ms/step - loss: 0.2274 - accuracy: 0.9143 - val_loss: 0.3345 - val_accuracy: 0.8846\n",
      "Epoch 15/25\n",
      "1500/1500 [==============================] - 3s 2ms/step - loss: 0.2192 - accuracy: 0.9187 - val_loss: 0.3390 - val_accuracy: 0.8836\n",
      "Epoch 16/25\n",
      "1500/1500 [==============================] - 2s 2ms/step - loss: 0.2115 - accuracy: 0.9197 - val_loss: 0.3361 - val_accuracy: 0.8833\n",
      "Epoch 17/25\n",
      "1500/1500 [==============================] - 2s 2ms/step - loss: 0.2059 - accuracy: 0.9217 - val_loss: 0.3443 - val_accuracy: 0.8852\n",
      "Epoch 18/25\n",
      "1500/1500 [==============================] - 2s 2ms/step - loss: 0.1986 - accuracy: 0.9249 - val_loss: 0.3387 - val_accuracy: 0.8816\n",
      "Epoch 19/25\n",
      "1500/1500 [==============================] - 2s 2ms/step - loss: 0.1936 - accuracy: 0.9260 - val_loss: 0.3342 - val_accuracy: 0.8901\n",
      "Epoch 20/25\n",
      "1500/1500 [==============================] - 2s 2ms/step - loss: 0.1921 - accuracy: 0.9270 - val_loss: 0.3508 - val_accuracy: 0.8852\n",
      "Epoch 21/25\n",
      "1500/1500 [==============================] - 2s 2ms/step - loss: 0.1862 - accuracy: 0.9296 - val_loss: 0.3567 - val_accuracy: 0.8790\n",
      "Epoch 22/25\n",
      "1500/1500 [==============================] - 2s 2ms/step - loss: 0.1808 - accuracy: 0.9317 - val_loss: 0.3515 - val_accuracy: 0.8819\n",
      "Epoch 23/25\n",
      "1500/1500 [==============================] - 2s 2ms/step - loss: 0.1825 - accuracy: 0.9326 - val_loss: 0.3508 - val_accuracy: 0.8842\n",
      "Epoch 24/25\n",
      "1500/1500 [==============================] - 2s 2ms/step - loss: 0.1738 - accuracy: 0.9351 - val_loss: 0.3587 - val_accuracy: 0.8871\n",
      "Epoch 25/25\n",
      "1500/1500 [==============================] - 2s 2ms/step - loss: 0.1708 - accuracy: 0.9356 - val_loss: 0.3594 - val_accuracy: 0.8865\n",
      "313/313 [==============================] - 0s 1ms/step - loss: 0.3816 - accuracy: 0.8804\n",
      "[9 2 1 1 6]\n",
      "[9 2 1 1 6]\n"
     ]
    }
   ],
   "source": [
    "hh_2 = hhl(model4)"
   ]
  },
  {
   "cell_type": "code",
   "execution_count": 28,
   "metadata": {
    "scrolled": true
   },
   "outputs": [
    {
     "name": "stdout",
     "output_type": "stream",
     "text": [
      "Epoch 1/25\n",
      "1500/1500 [==============================] - 3s 2ms/step - loss: 0.7316 - accuracy: 0.7390 - val_loss: 0.4701 - val_accuracy: 0.8251\n",
      "Epoch 2/25\n",
      "1500/1500 [==============================] - 3s 2ms/step - loss: 0.4442 - accuracy: 0.8403 - val_loss: 0.4227 - val_accuracy: 0.8419\n",
      "Epoch 3/25\n",
      "1500/1500 [==============================] - 3s 2ms/step - loss: 0.4016 - accuracy: 0.8557 - val_loss: 0.4202 - val_accuracy: 0.8466\n",
      "Epoch 4/25\n",
      "1500/1500 [==============================] - 3s 2ms/step - loss: 0.3779 - accuracy: 0.8618 - val_loss: 0.4343 - val_accuracy: 0.8386\n",
      "Epoch 5/25\n",
      "1500/1500 [==============================] - 3s 2ms/step - loss: 0.3498 - accuracy: 0.8746 - val_loss: 0.4088 - val_accuracy: 0.8562\n",
      "Epoch 6/25\n",
      "1500/1500 [==============================] - 3s 2ms/step - loss: 0.3437 - accuracy: 0.8749 - val_loss: 0.4093 - val_accuracy: 0.8499\n",
      "Epoch 7/25\n",
      "1500/1500 [==============================] - 3s 2ms/step - loss: 0.3296 - accuracy: 0.8796 - val_loss: 0.3767 - val_accuracy: 0.8728\n",
      "Epoch 8/25\n",
      "1500/1500 [==============================] - 3s 2ms/step - loss: 0.3203 - accuracy: 0.8852 - val_loss: 0.3804 - val_accuracy: 0.8733\n",
      "Epoch 9/25\n",
      "1500/1500 [==============================] - 3s 2ms/step - loss: 0.3124 - accuracy: 0.8855 - val_loss: 0.3590 - val_accuracy: 0.8720\n",
      "Epoch 10/25\n",
      "1500/1500 [==============================] - 3s 2ms/step - loss: 0.2977 - accuracy: 0.8929 - val_loss: 0.3863 - val_accuracy: 0.8645\n",
      "Epoch 11/25\n",
      "1500/1500 [==============================] - 3s 2ms/step - loss: 0.2906 - accuracy: 0.8945 - val_loss: 0.3808 - val_accuracy: 0.8643\n",
      "Epoch 12/25\n",
      "1500/1500 [==============================] - 3s 2ms/step - loss: 0.2889 - accuracy: 0.8942 - val_loss: 0.3548 - val_accuracy: 0.8769\n",
      "Epoch 13/25\n",
      "1500/1500 [==============================] - 3s 2ms/step - loss: 0.2768 - accuracy: 0.8974 - val_loss: 0.3705 - val_accuracy: 0.8763\n",
      "Epoch 14/25\n",
      "1500/1500 [==============================] - 3s 2ms/step - loss: 0.2872 - accuracy: 0.8960 - val_loss: 0.3526 - val_accuracy: 0.8760\n",
      "Epoch 15/25\n",
      "1500/1500 [==============================] - 3s 2ms/step - loss: 0.2663 - accuracy: 0.9019 - val_loss: 0.3579 - val_accuracy: 0.8774\n",
      "Epoch 16/25\n",
      "1500/1500 [==============================] - 3s 2ms/step - loss: 0.2731 - accuracy: 0.9000 - val_loss: 0.3567 - val_accuracy: 0.8733\n",
      "Epoch 17/25\n",
      "1500/1500 [==============================] - 3s 2ms/step - loss: 0.2532 - accuracy: 0.9056 - val_loss: 0.3525 - val_accuracy: 0.8832\n",
      "Epoch 18/25\n",
      "1500/1500 [==============================] - 3s 2ms/step - loss: 0.2496 - accuracy: 0.9083 - val_loss: 0.3570 - val_accuracy: 0.8814\n",
      "Epoch 19/25\n",
      "1500/1500 [==============================] - 3s 2ms/step - loss: 0.2552 - accuracy: 0.9070 - val_loss: 0.3631 - val_accuracy: 0.8808\n",
      "Epoch 20/25\n",
      "1500/1500 [==============================] - 3s 2ms/step - loss: 0.2483 - accuracy: 0.9092 - val_loss: 0.3490 - val_accuracy: 0.8829\n",
      "Epoch 21/25\n",
      "1500/1500 [==============================] - 3s 2ms/step - loss: 0.2456 - accuracy: 0.9122 - val_loss: 0.3727 - val_accuracy: 0.8755\n",
      "Epoch 22/25\n",
      "1500/1500 [==============================] - 3s 2ms/step - loss: 0.2430 - accuracy: 0.9128 - val_loss: 0.3643 - val_accuracy: 0.8780\n",
      "Epoch 23/25\n",
      "1500/1500 [==============================] - 3s 2ms/step - loss: 0.2415 - accuracy: 0.9122 - val_loss: 0.3689 - val_accuracy: 0.8742\n",
      "Epoch 24/25\n",
      "1500/1500 [==============================] - 3s 2ms/step - loss: 0.2350 - accuracy: 0.9156 - val_loss: 0.3548 - val_accuracy: 0.8859\n",
      "Epoch 25/25\n",
      "1500/1500 [==============================] - 3s 2ms/step - loss: 0.2368 - accuracy: 0.9140 - val_loss: 0.3803 - val_accuracy: 0.8692\n",
      "313/313 [==============================] - 1s 2ms/step - loss: 0.3967 - accuracy: 0.8643\n",
      "WARNING:tensorflow:5 out of the last 5 calls to <function Model.make_predict_function.<locals>.predict_function at 0x000002309CF44CA8> triggered tf.function retracing. Tracing is expensive and the excessive number of tracings could be due to (1) creating @tf.function repeatedly in a loop, (2) passing tensors with different shapes, (3) passing Python objects instead of tensors. For (1), please define your @tf.function outside of the loop. For (2), @tf.function has experimental_relax_shapes=True option that relaxes argument shapes that can avoid unnecessary retracing. For (3), please refer to https://www.tensorflow.org/guide/function#controlling_retracing and https://www.tensorflow.org/api_docs/python/tf/function for  more details.\n",
      "[9 2 1 1 6]\n",
      "[9 2 1 1 6]\n"
     ]
    }
   ],
   "source": [
    "hh_3 = hhl(model5)"
   ]
  },
  {
   "cell_type": "code",
   "execution_count": 39,
   "metadata": {
    "scrolled": false
   },
   "outputs": [
    {
     "name": "stdout",
     "output_type": "stream",
     "text": [
      "Оптимизатор: SGD\n",
      "Epoch 1/5\n",
      "938/938 [==============================] - 3s 3ms/step - loss: 1.2594 - accuracy: 0.5726 - val_loss: 0.6871 - val_accuracy: 0.7435\n",
      "Epoch 2/5\n",
      "938/938 [==============================] - 2s 3ms/step - loss: 0.5944 - accuracy: 0.7778 - val_loss: 0.5305 - val_accuracy: 0.8064\n",
      "Epoch 3/5\n",
      "938/938 [==============================] - 2s 2ms/step - loss: 0.4992 - accuracy: 0.8191 - val_loss: 0.4844 - val_accuracy: 0.8194\n",
      "Epoch 4/5\n",
      "938/938 [==============================] - 2s 3ms/step - loss: 0.4551 - accuracy: 0.8353 - val_loss: 0.4591 - val_accuracy: 0.8309\n",
      "Epoch 5/5\n",
      "938/938 [==============================] - 2s 2ms/step - loss: 0.4278 - accuracy: 0.8458 - val_loss: 0.4068 - val_accuracy: 0.8527\n",
      "938/938 [==============================] - 1s 1ms/step - loss: 0.4068 - accuracy: 0.8527\n",
      "Качество на тесте: 0.4067809283733368, 0.8526833057403564\n",
      "Оптимизатор: RMSprop\n",
      "Epoch 1/5\n",
      "938/938 [==============================] - 4s 3ms/step - loss: 0.5703 - accuracy: 0.7916 - val_loss: 0.4035 - val_accuracy: 0.8515\n",
      "Epoch 2/5\n",
      "938/938 [==============================] - 3s 4ms/step - loss: 0.4125 - accuracy: 0.8496 - val_loss: 0.4001 - val_accuracy: 0.8509\n",
      "Epoch 3/5\n",
      "938/938 [==============================] - 3s 3ms/step - loss: 0.3750 - accuracy: 0.8621 - val_loss: 0.3592 - val_accuracy: 0.8678\n",
      "Epoch 4/5\n",
      "938/938 [==============================] - 2s 3ms/step - loss: 0.3508 - accuracy: 0.8712 - val_loss: 0.3551 - val_accuracy: 0.8679\n",
      "Epoch 5/5\n",
      "938/938 [==============================] - 3s 3ms/step - loss: 0.3316 - accuracy: 0.8779 - val_loss: 0.3672 - val_accuracy: 0.8684\n",
      "938/938 [==============================] - 1s 1ms/step - loss: 0.3672 - accuracy: 0.8684\n",
      "Качество на тесте: 0.3672218322753906, 0.8684499859809875\n",
      "Оптимизатор: Adam\n",
      "Epoch 1/5\n",
      "938/938 [==============================] - 3s 3ms/step - loss: 0.5553 - accuracy: 0.8017 - val_loss: 0.4420 - val_accuracy: 0.8357\n",
      "Epoch 2/5\n",
      "938/938 [==============================] - 3s 3ms/step - loss: 0.3957 - accuracy: 0.8558 - val_loss: 0.3567 - val_accuracy: 0.8685\n",
      "Epoch 3/5\n",
      "938/938 [==============================] - 3s 3ms/step - loss: 0.3596 - accuracy: 0.8672 - val_loss: 0.3448 - val_accuracy: 0.8734\n",
      "Epoch 4/5\n",
      "938/938 [==============================] - 2s 3ms/step - loss: 0.3401 - accuracy: 0.8750 - val_loss: 0.3198 - val_accuracy: 0.8827\n",
      "Epoch 5/5\n",
      "938/938 [==============================] - 2s 3ms/step - loss: 0.3264 - accuracy: 0.8796 - val_loss: 0.3019 - val_accuracy: 0.8876\n",
      "938/938 [==============================] - 1s 1ms/step - loss: 0.3019 - accuracy: 0.8876\n",
      "Качество на тесте: 0.30185559391975403, 0.8876333236694336\n"
     ]
    },
    {
     "data": {
      "image/png": "[encoded data removed]",
      "text/plain": [
       "<Figure size 1152x504 with 1 Axes>"
      ]
     },
     "metadata": {
      "needs_background": "light"
     },
     "output_type": "display_data"
    }
   ],
   "source": [
    "# создаем модель model\n",
    "model = Sequential([\n",
    "    Dense(64, activation='relu', input_shape=(28 * 28,)),\n",
    "    Dense(45, activation='relu'),\n",
    "    Dense(45, activation='relu'),\n",
    "    Dense(45, activation='relu'),\n",
    "    Dense(45, activation='relu'),\n",
    "    Dense(10, activation='sigmoid'),\n",
    "])\n",
    "\n",
    "# сохраняем ее веса (это начальная точка) model.save_weights('model.h5')\n",
    "model.save_weights('model_weights.h5')\n",
    "\n",
    "# будем сохранять модели в словарь\n",
    "models = {}\n",
    "\n",
    "plt.figure(figsize=(16, 7))\n",
    "colors = ['g', 'b', 'r']\n",
    "\n",
    "num_epochs = 5\n",
    "batch_size = 64\n",
    "\n",
    "# вектор для вывода результатов\n",
    "epoch = np.arange(num_epochs+1)\n",
    "\n",
    "# будем изменять оптимизаторы\n",
    "for i, i_optim in enumerate([SGD(),\n",
    "                             RMSprop(),\n",
    "                             Adam()]):\n",
    "    print(f'Оптимизатор: {i_optim.get_config()[\"name\"]}')\n",
    "    \n",
    "    # создаем рабочую модель  model_i, куда будем загружать эти веса (она должна быть идентичной структуры)\n",
    "    model_i = Sequential([\n",
    "        Dense(64, activation='relu', input_shape=(28 * 28,)),\n",
    "        Dense(45, activation='relu'),\n",
    "        Dense(45, activation='relu'),\n",
    "        Dense(45, activation='relu'),\n",
    "        Dense(45, activation='relu'),\n",
    "        Dense(10, activation='sigmoid'),\n",
    "    ])\n",
    "    \n",
    "    # загружаем веса model_i.load_weights('model.h5')\n",
    "    model_i.load_weights('model_weights.h5')\n",
    "    \n",
    "    # компилируем model_i с одним из оптимизаторов\n",
    "    model_i.compile(\n",
    "        optimizer=i_optim,\n",
    "        loss='categorical_crossentropy',\n",
    "        metrics=['accuracy'],\n",
    "        )\n",
    "    \n",
    "    # вычисляем ошибку для modeli без обучения\n",
    "    h0_train = model_i.evaluate(train_images[:48000,:], to_categorical(train_labels[:48000]), verbose=0)\n",
    "    h0_val = model_i.evaluate(train_images[48000:,:], to_categorical(train_labels[48000:]), verbose=0)\n",
    "\n",
    "    # проводим обучение модели \n",
    "    h = model_i.fit(train_images, to_categorical(train_labels),\n",
    "                    epochs=num_epochs,\n",
    "                    batch_size=batch_size,\n",
    "                    validation_data=(train_images, to_categorical(train_labels)),\n",
    "                    verbose=1)\n",
    "    \n",
    "    # вычисляем ошибку для modeli после обучения\n",
    "    loss, metric = model_i.evaluate(train_images, to_categorical(train_labels), batch_size=64)\n",
    "    print(f'Качество на тесте: {loss}, {metric}')\n",
    "    \n",
    "    # записываем обученную модель в словарь\n",
    "    models[i_optim.get_config()['name']] = model_i\n",
    "\n",
    "    \n",
    "    # картинки\n",
    "    '''\n",
    "    plt.figure(figsize=(16, 7))\n",
    "    plt.plot(epoch, np.log([h0_train[0]] + h.history['loss']),\n",
    "             '-', c=colors[i],\n",
    "             label=model_i.optimizer.get_config()['name'] + ' train')\n",
    "    plt.plot(epoch, np.log([h0_val[0]] + h.history['val_loss']),\n",
    "             '--', c=colors[i],\n",
    "             label=model_i.optimizer.get_config()['name'] + ' val')\n",
    "    '''\n",
    "    \n",
    "    plt.plot(epoch, ([h0_train[0]] + h.history['accuracy']),\n",
    "             '-', c=colors[i],\n",
    "             label=model_i.optimizer.get_config()['name'] + ' train')\n",
    "    plt.plot(epoch, ([h0_val[0]] + h.history['val_accuracy']),\n",
    "             '--', c=colors[i],\n",
    "             label=f'{model_i.optimizer.get_config()[\"name\"]} val {metric:.2f}')\n",
    "\n",
    "plt.legend()\n",
    "plt.title('нейросети от оптимизатора accuracy')\n",
    "plt.xlabel('epoch')\n",
    "plt.ylabel('accuracy')\n",
    "plt.show()"
   ]
  },
  {
   "cell_type": "markdown",
   "metadata": {},
   "source": [
    "Лучшее качество на тестовой выборке получилось 0.89 при 5 скрытых слоях и оптимизаторе Adam."
   ]
  },
  {
   "cell_type": "code",
   "execution_count": 30,
   "metadata": {},
   "outputs": [],
   "source": [
    "hh_t = {}\n",
    "hh_a = []\n",
    "hh_v = []\n",
    "hh_list = [hh, hh2, hh_1, hh_2, hh_3]\n",
    "for i in hh_list:\n",
    "    hh_a.append(i.history['accuracy'][-1])\n",
    "    hh_v.append(i.history['val_accuracy'][-1])\n",
    "    \n",
    "    \n",
    "hh_t['accuracy'] = hh_a\n",
    "hh_t['val_accuracy'] = hh_v"
   ]
  },
  {
   "cell_type": "code",
   "execution_count": 31,
   "metadata": {},
   "outputs": [],
   "source": [
    "hh_d = {'layers':[], 'neurons': [], 'accuracy': [], 'val_accuracy': []}\n",
    "l = [2, 2, 3, 5, 10]\n",
    "n = [128, 64, 64, 64, 64]"
   ]
  },
  {
   "cell_type": "code",
   "execution_count": 32,
   "metadata": {},
   "outputs": [],
   "source": [
    "for i in range(5):\n",
    "    hh_d['layers'].append(l[i])\n",
    "    hh_d['neurons'].append(n[i])\n",
    "    hh_d['accuracy'].append(hh_list[i].history['accuracy'][-1])\n",
    "    hh_d['val_accuracy'].append(hh_list[i].history['val_accuracy'][-1])"
   ]
  },
  {
   "cell_type": "code",
   "execution_count": 33,
   "metadata": {},
   "outputs": [
    {
     "data": {
      "text/html": [
       "<div>\n",
       "<style scoped>\n",
       "    .dataframe tbody tr th:only-of-type {\n",
       "        vertical-align: middle;\n",
       "    }\n",
       "\n",
       "    .dataframe tbody tr th {\n",
       "        vertical-align: top;\n",
       "    }\n",
       "\n",
       "    .dataframe thead th {\n",
       "        text-align: right;\n",
       "    }\n",
       "</style>\n",
       "<table border=\"1\" class=\"dataframe\">\n",
       "  <thead>\n",
       "    <tr style=\"text-align: right;\">\n",
       "      <th></th>\n",
       "      <th>layers</th>\n",
       "      <th>neurons</th>\n",
       "      <th>accuracy</th>\n",
       "      <th>val_accuracy</th>\n",
       "    </tr>\n",
       "  </thead>\n",
       "  <tbody>\n",
       "    <tr>\n",
       "      <th>0</th>\n",
       "      <td>2</td>\n",
       "      <td>128</td>\n",
       "      <td>0.923604</td>\n",
       "      <td>0.886000</td>\n",
       "    </tr>\n",
       "    <tr>\n",
       "      <th>1</th>\n",
       "      <td>2</td>\n",
       "      <td>64</td>\n",
       "      <td>0.882312</td>\n",
       "      <td>0.876083</td>\n",
       "    </tr>\n",
       "    <tr>\n",
       "      <th>2</th>\n",
       "      <td>3</td>\n",
       "      <td>64</td>\n",
       "      <td>0.936979</td>\n",
       "      <td>0.884000</td>\n",
       "    </tr>\n",
       "    <tr>\n",
       "      <th>3</th>\n",
       "      <td>5</td>\n",
       "      <td>64</td>\n",
       "      <td>0.933125</td>\n",
       "      <td>0.886500</td>\n",
       "    </tr>\n",
       "    <tr>\n",
       "      <th>4</th>\n",
       "      <td>10</td>\n",
       "      <td>64</td>\n",
       "      <td>0.912792</td>\n",
       "      <td>0.869167</td>\n",
       "    </tr>\n",
       "  </tbody>\n",
       "</table>\n",
       "</div>"
      ],
      "text/plain": [
       "   layers  neurons  accuracy  val_accuracy\n",
       "0       2      128  0.923604      0.886000\n",
       "1       2       64  0.882312      0.876083\n",
       "2       3       64  0.936979      0.884000\n",
       "3       5       64  0.933125      0.886500\n",
       "4      10       64  0.912792      0.869167"
      ]
     },
     "execution_count": 33,
     "metadata": {},
     "output_type": "execute_result"
    }
   ],
   "source": [
    "df = pd.DataFrame(hh_d)\n",
    "df"
   ]
  },
  {
   "cell_type": "markdown",
   "metadata": {},
   "source": [
    "Увеличение количества слоев увеличивает разрыв между accuracy и val_accuracy. Это похоже на переобучение сети. В то время как увеличение количества нейронов не приводит к переобучению."
   ]
  },
  {
   "cell_type": "code",
   "execution_count": 40,
   "metadata": {},
   "outputs": [],
   "source": [
    "from sklearn.metrics import confusion_matrix, ConfusionMatrixDisplay"
   ]
  },
  {
   "cell_type": "code",
   "execution_count": 41,
   "metadata": {},
   "outputs": [
    {
     "data": {
      "text/plain": [
       "array([9, 2, 1, 1, 0, 1, 4, 6, 5, 7], dtype=int64)"
      ]
     },
     "execution_count": 41,
     "metadata": {},
     "output_type": "execute_result"
    }
   ],
   "source": [
    "y_pred = np.argmax(model1.predict(test_images), axis=1)\n",
    "y_pred[:10]"
   ]
  },
  {
   "cell_type": "code",
   "execution_count": 42,
   "metadata": {},
   "outputs": [
    {
     "name": "stdout",
     "output_type": "stream",
     "text": [
      "[[892   0   8  25   4   1  63   1   6   0]\n",
      " [  5 966   1  24   2   0   2   0   0   0]\n",
      " [ 20   0 740  19 102   0 116   0   3   0]\n",
      " [ 36   7   7 891  31   2  24   0   1   1]\n",
      " [  2   1  85  44 797   0  71   0   0   0]\n",
      " [  0   0   0   0   0 933   0  38   0  29]\n",
      " [198   1  71  27  76   1 615   0  11   0]\n",
      " [  0   0   0   0   0  20   0 958   0  22]\n",
      " [ 14   0   1  11   2   9   7  11 944   1]\n",
      " [  0   0   0   0   0   5   1  44   0 950]]\n"
     ]
    }
   ],
   "source": [
    "CM = confusion_matrix(test_labels, y_pred)\n",
    "print(CM)"
   ]
  },
  {
   "cell_type": "markdown",
   "metadata": {},
   "source": [
    "**Матрица ошибок по классам**"
   ]
  },
  {
   "cell_type": "code",
   "execution_count": 54,
   "metadata": {},
   "outputs": [
    {
     "data": {
      "image/png": "[encoded data removed]",
      "text/plain": [
       "<Figure size 432x288 with 2 Axes>"
      ]
     },
     "metadata": {
      "needs_background": "light"
     },
     "output_type": "display_data"
    }
   ],
   "source": [
    "disp = ConfusionMatrixDisplay(confusion_matrix=CM, display_labels=np.arange(10))\n",
    "\n",
    "disp.plot(values_format = '.3g')\n",
    "\n",
    "plt.show()"
   ]
  },
  {
   "cell_type": "code",
   "execution_count": null,
   "metadata": {},
   "outputs": [],
   "source": []
  }
 ],
 "metadata": {
  "kernelspec": {
   "display_name": "Python 3",
   "language": "python",
   "name": "python3"
  },
  "language_info": {
   "codemirror_mode": {
    "name": "ipython",
    "version": 3
   },
   "file_extension": ".py",
   "mimetype": "text/x-python",
   "name": "python",
   "nbconvert_exporter": "python",
   "pygments_lexer": "ipython3",
   "version": "3.7.6"
  },
  "toc": {
   "base_numbering": 1,
   "nav_menu": {},
   "number_sections": true,
   "sideBar": true,
   "skip_h1_title": false,
   "title_cell": "Table of Contents",
   "title_sidebar": "Contents",
   "toc_cell": false,
   "toc_position": {},
   "toc_section_display": true,
   "toc_window_display": false
  }
 },
 "nbformat": 4,
 "nbformat_minor": 4
}
